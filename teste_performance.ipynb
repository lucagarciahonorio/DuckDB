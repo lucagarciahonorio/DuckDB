{
 "cells": [
  {
   "cell_type": "code",
   "execution_count": null,
   "id": "07489d5e",
   "metadata": {},
   "outputs": [
    {
     "name": "stdout",
     "output_type": "stream",
     "text": [
      "DuckDB: 0.14 s\n",
      "    passenger_count  total_rides  avg_distance  avg_amount\n",
      "0               0.0        51164      2.761904   24.162124\n",
      "1               1.0      2261400      3.338169   26.443472\n",
      "2               2.0       451536      3.931051   29.313282\n",
      "3               3.0       106353      3.664393   28.475420\n",
      "4               4.0        53745      3.812581   29.611602\n",
      "5               5.0        42681      3.282478   26.588261\n",
      "6               6.0        28124      3.250963   26.558484\n",
      "7               7.0            6      4.238333   85.111667\n",
      "8               8.0           13      4.270769   99.336923\n",
      "9               9.0            1      0.000000   92.250000\n",
      "10              NaN        71743     21.011154   29.133590\n"
     ]
    }
   ],
   "source": [
    "import duckdb, time\n",
    "\n",
    "\"\"\"\n",
    "This function performs the same aggregation as the Pandas version,\n",
    "but uses DuckDB to query the Parquet file directly using SQL.\n",
    "\n",
    "Benefits:\n",
    "- Lower memory usage (due to vectorized and columnar processing)\n",
    "- Direct query execution on the Parquet file without full in-memory load\n",
    "\n",
    "Metrics collected:\n",
    "- Execution time\n",
    "\"\"\"\n",
    "\n",
    "start = time.time()\n",
    "con = duckdb.connect()\n",
    "\n",
    "# SQL direto sobre Parquet\n",
    "query = \"\"\"\n",
    "SELECT\n",
    "    passenger_count,\n",
    "    COUNT(*) AS total_rides,\n",
    "    AVG(trip_distance) AS avg_distance,\n",
    "    AVG(total_amount) AS avg_amount\n",
    "FROM 'base/yellow_tripdata_2023-01.parquet'\n",
    "GROUP BY passenger_count\n",
    "ORDER BY passenger_count\n",
    "\"\"\"\n",
    "df_duck = con.execute(query).df()\n",
    "print(\"DuckDB:\", round(time.time() - start, 2), \"s\")\n",
    "print(df_duck)\n"
   ]
  },
  {
   "cell_type": "code",
   "execution_count": null,
   "id": "d05a9f7c",
   "metadata": {},
   "outputs": [
    {
     "name": "stdout",
     "output_type": "stream",
     "text": [
      "Pandas: 0.61 s\n",
      "   passenger_count  total_rides  avg_distance  avg_amount\n",
      "0              0.0        51164      2.761904   24.162124\n",
      "1              1.0      2261400      3.338169   26.443472\n",
      "2              2.0       451536      3.931051   29.313282\n",
      "3              3.0       106353      3.664393   28.475420\n",
      "4              4.0        53745      3.812581   29.611602\n",
      "5              5.0        42681      3.282478   26.588261\n",
      "6              6.0        28124      3.250963   26.558484\n",
      "7              7.0            6      4.238333   85.111667\n",
      "8              8.0           13      4.270769   99.336923\n",
      "9              9.0            1      0.000000   92.250000\n"
     ]
    }
   ],
   "source": [
    "import pandas as pd, time\n",
    "\n",
    "  \"\"\"\n",
    "  This function loads a large Parquet file using Pandas and performs\n",
    "  a group-by operation to aggregate data based on passenger count.\n",
    "\n",
    "  Metrics collected:\n",
    "  - Execution time\n",
    "  - Memory usage (via memory_profiler)\n",
    "\n",
    "  The function computes:\n",
    "  - Total number of rides\n",
    "  - Average trip distance\n",
    "  - Average total amount per passenger count\n",
    "  \"\"\"\n",
    "\n",
    "start = time.time()\n",
    "df = pd.read_parquet(\"base/yellow_tripdata_2023-01.parquet\")\n",
    "\n",
    "agg = (\n",
    "   df.groupby(\"passenger_count\")\n",
    "     .agg(\n",
    "       total_rides=(\"passenger_count\",\"count\"),\n",
    "       avg_distance=(\"trip_distance\",\"mean\"),\n",
    "       avg_amount=(\"total_amount\",\"mean\")\n",
    "     )\n",
    "     .reset_index()\n",
    ")\n",
    "\n",
    "print(\"Pandas:\", round(time.time() - start, 2), \"s\")\n",
    "print(agg)\n"
   ]
  }
 ],
 "metadata": {
  "kernelspec": {
   "display_name": "base",
   "language": "python",
   "name": "python3"
  },
  "language_info": {
   "codemirror_mode": {
    "name": "ipython",
    "version": 3
   },
   "file_extension": ".py",
   "mimetype": "text/x-python",
   "name": "python",
   "nbconvert_exporter": "python",
   "pygments_lexer": "ipython3",
   "version": "3.12.7"
  }
 },
 "nbformat": 4,
 "nbformat_minor": 5
}
